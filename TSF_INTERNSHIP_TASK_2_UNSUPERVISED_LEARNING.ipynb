{
  "nbformat": 4,
  "nbformat_minor": 0,
  "metadata": {
    "kernelspec": {
      "language": "python",
      "display_name": "Python 3",
      "name": "python3"
    },
    "language_info": {
      "name": "python",
      "version": "3.7.9",
      "mimetype": "text/x-python",
      "codemirror_mode": {
        "name": "ipython",
        "version": 3
      },
      "pygments_lexer": "ipython3",
      "nbconvert_exporter": "python",
      "file_extension": ".py"
    },
    "colab": {
      "name": "TSF-INTERNSHIP-TASK-2-UNSUPERVISED-LEARNING.ipynb",
      "provenance": [],
      "include_colab_link": true
    },
    "accelerator": "TPU"
  },
  "cells": [
    {
      "cell_type": "markdown",
      "metadata": {
        "id": "view-in-github",
        "colab_type": "text"
      },
      "source": [
        "<a href=\"https://colab.research.google.com/github/Amey-Thakur/TSF-UNSUPERVISED-MACHINE-LEARNING/blob/main/TSF_INTERNSHIP_TASK_2_UNSUPERVISED_LEARNING.ipynb\" target=\"_parent\"><img src=\"https://colab.research.google.com/assets/colab-badge.svg\" alt=\"Open In Colab\"/></a>"
      ]
    },
    {
      "cell_type": "markdown",
      "metadata": {
        "id": "R35vNMj5cXy1"
      },
      "source": [
        "# The Sparks Foundation - Supervised Learning ML\n",
        "- Created By Amey Mahendra Thakur"
      ]
    },
    {
      "cell_type": "markdown",
      "metadata": {
        "id": "wUQSZkRicXy2"
      },
      "source": [
        "## Task: From the given ‘Iris’ dataset, predict the optimum number of clusters and represent it visually."
      ]
    },
    {
      "cell_type": "markdown",
      "metadata": {
        "id": "B3F3l7bQcXy3"
      },
      "source": [
        "## Step 1 - Importing Libraries and Loading Dataset"
      ]
    },
    {
      "cell_type": "code",
      "metadata": {
        "execution": {
          "iopub.status.busy": "2021-07-04T09:40:18.356058Z",
          "iopub.execute_input": "2021-07-04T09:40:18.356645Z",
          "iopub.status.idle": "2021-07-04T09:40:19.787015Z",
          "shell.execute_reply.started": "2021-07-04T09:40:18.356557Z",
          "shell.execute_reply": "2021-07-04T09:40:19.785987Z"
        },
        "trusted": true,
        "id": "2slJIcsxcXy3"
      },
      "source": [
        "%matplotlib inline\n",
        "\n",
        "import numpy as np\n",
        "import pandas as pd\n",
        "import matplotlib.pyplot as plt\n",
        "from sklearn.cluster import KMeans"
      ],
      "execution_count": 1,
      "outputs": []
    },
    {
      "cell_type": "code",
      "metadata": {
        "execution": {
          "iopub.status.busy": "2021-07-04T09:40:19.789797Z",
          "iopub.execute_input": "2021-07-04T09:40:19.790272Z",
          "iopub.status.idle": "2021-07-04T09:40:19.810045Z",
          "shell.execute_reply.started": "2021-07-04T09:40:19.790207Z",
          "shell.execute_reply": "2021-07-04T09:40:19.808900Z"
        },
        "trusted": true,
        "id": "V0gY_OmTcXy4"
      },
      "source": [
        "data = pd.read_csv('/content/Iris.csv')"
      ],
      "execution_count": 2,
      "outputs": []
    },
    {
      "cell_type": "code",
      "metadata": {
        "execution": {
          "iopub.status.busy": "2021-07-04T09:40:19.811423Z",
          "iopub.execute_input": "2021-07-04T09:40:19.811752Z",
          "iopub.status.idle": "2021-07-04T09:40:19.846638Z",
          "shell.execute_reply.started": "2021-07-04T09:40:19.811721Z",
          "shell.execute_reply": "2021-07-04T09:40:19.845615Z"
        },
        "trusted": true,
        "colab": {
          "base_uri": "https://localhost:8080/",
          "height": 203
        },
        "id": "grQJogkvcXy4",
        "outputId": "60758f5f-0ff0-4aaf-b7af-f13f873a9df2"
      },
      "source": [
        "data.head()"
      ],
      "execution_count": 3,
      "outputs": [
        {
          "output_type": "execute_result",
          "data": {
            "text/html": [
              "<div>\n",
              "<style scoped>\n",
              "    .dataframe tbody tr th:only-of-type {\n",
              "        vertical-align: middle;\n",
              "    }\n",
              "\n",
              "    .dataframe tbody tr th {\n",
              "        vertical-align: top;\n",
              "    }\n",
              "\n",
              "    .dataframe thead th {\n",
              "        text-align: right;\n",
              "    }\n",
              "</style>\n",
              "<table border=\"1\" class=\"dataframe\">\n",
              "  <thead>\n",
              "    <tr style=\"text-align: right;\">\n",
              "      <th></th>\n",
              "      <th>Id</th>\n",
              "      <th>SepalLengthCm</th>\n",
              "      <th>SepalWidthCm</th>\n",
              "      <th>PetalLengthCm</th>\n",
              "      <th>PetalWidthCm</th>\n",
              "      <th>Species</th>\n",
              "    </tr>\n",
              "  </thead>\n",
              "  <tbody>\n",
              "    <tr>\n",
              "      <th>0</th>\n",
              "      <td>1</td>\n",
              "      <td>5.1</td>\n",
              "      <td>3.5</td>\n",
              "      <td>1.4</td>\n",
              "      <td>0.2</td>\n",
              "      <td>Iris-setosa</td>\n",
              "    </tr>\n",
              "    <tr>\n",
              "      <th>1</th>\n",
              "      <td>2</td>\n",
              "      <td>4.9</td>\n",
              "      <td>3.0</td>\n",
              "      <td>1.4</td>\n",
              "      <td>0.2</td>\n",
              "      <td>Iris-setosa</td>\n",
              "    </tr>\n",
              "    <tr>\n",
              "      <th>2</th>\n",
              "      <td>3</td>\n",
              "      <td>4.7</td>\n",
              "      <td>3.2</td>\n",
              "      <td>1.3</td>\n",
              "      <td>0.2</td>\n",
              "      <td>Iris-setosa</td>\n",
              "    </tr>\n",
              "    <tr>\n",
              "      <th>3</th>\n",
              "      <td>4</td>\n",
              "      <td>4.6</td>\n",
              "      <td>3.1</td>\n",
              "      <td>1.5</td>\n",
              "      <td>0.2</td>\n",
              "      <td>Iris-setosa</td>\n",
              "    </tr>\n",
              "    <tr>\n",
              "      <th>4</th>\n",
              "      <td>5</td>\n",
              "      <td>5.0</td>\n",
              "      <td>3.6</td>\n",
              "      <td>1.4</td>\n",
              "      <td>0.2</td>\n",
              "      <td>Iris-setosa</td>\n",
              "    </tr>\n",
              "  </tbody>\n",
              "</table>\n",
              "</div>"
            ],
            "text/plain": [
              "   Id  SepalLengthCm  SepalWidthCm  PetalLengthCm  PetalWidthCm      Species\n",
              "0   1            5.1           3.5            1.4           0.2  Iris-setosa\n",
              "1   2            4.9           3.0            1.4           0.2  Iris-setosa\n",
              "2   3            4.7           3.2            1.3           0.2  Iris-setosa\n",
              "3   4            4.6           3.1            1.5           0.2  Iris-setosa\n",
              "4   5            5.0           3.6            1.4           0.2  Iris-setosa"
            ]
          },
          "metadata": {
            "tags": []
          },
          "execution_count": 3
        }
      ]
    },
    {
      "cell_type": "markdown",
      "metadata": {
        "id": "5PxOpGulcXy5"
      },
      "source": [
        "## Step 2 - Exploratory Data Analysis"
      ]
    },
    {
      "cell_type": "code",
      "metadata": {
        "execution": {
          "iopub.status.busy": "2021-07-04T09:40:19.848129Z",
          "iopub.execute_input": "2021-07-04T09:40:19.848737Z",
          "iopub.status.idle": "2021-07-04T09:40:19.855855Z",
          "shell.execute_reply.started": "2021-07-04T09:40:19.848676Z",
          "shell.execute_reply": "2021-07-04T09:40:19.854953Z"
        },
        "trusted": true,
        "colab": {
          "base_uri": "https://localhost:8080/"
        },
        "id": "v3dbuD0KcXy5",
        "outputId": "f3903b99-0a29-487d-8c7c-9d9f9b5de2b3"
      },
      "source": [
        "data.shape"
      ],
      "execution_count": 4,
      "outputs": [
        {
          "output_type": "execute_result",
          "data": {
            "text/plain": [
              "(150, 6)"
            ]
          },
          "metadata": {
            "tags": []
          },
          "execution_count": 4
        }
      ]
    },
    {
      "cell_type": "code",
      "metadata": {
        "execution": {
          "iopub.status.busy": "2021-07-04T09:40:19.858836Z",
          "iopub.execute_input": "2021-07-04T09:40:19.859149Z",
          "iopub.status.idle": "2021-07-04T09:40:19.872141Z",
          "shell.execute_reply.started": "2021-07-04T09:40:19.859119Z",
          "shell.execute_reply": "2021-07-04T09:40:19.871118Z"
        },
        "trusted": true,
        "colab": {
          "base_uri": "https://localhost:8080/"
        },
        "id": "mPLokT9xcXy6",
        "outputId": "16af59af-69ce-44ca-a0d7-d94022228624"
      },
      "source": [
        "data.columns"
      ],
      "execution_count": 5,
      "outputs": [
        {
          "output_type": "execute_result",
          "data": {
            "text/plain": [
              "Index(['Id', 'SepalLengthCm', 'SepalWidthCm', 'PetalLengthCm', 'PetalWidthCm',\n",
              "       'Species'],\n",
              "      dtype='object')"
            ]
          },
          "metadata": {
            "tags": []
          },
          "execution_count": 5
        }
      ]
    },
    {
      "cell_type": "code",
      "metadata": {
        "execution": {
          "iopub.status.busy": "2021-07-04T09:40:19.873983Z",
          "iopub.execute_input": "2021-07-04T09:40:19.874342Z",
          "iopub.status.idle": "2021-07-04T09:40:19.905029Z",
          "shell.execute_reply.started": "2021-07-04T09:40:19.874308Z",
          "shell.execute_reply": "2021-07-04T09:40:19.903928Z"
        },
        "trusted": true,
        "colab": {
          "base_uri": "https://localhost:8080/"
        },
        "id": "PRBJLo0jcXy6",
        "outputId": "e2c3d7b4-46bc-4bf0-c296-8e0d4f300059"
      },
      "source": [
        "data.info()"
      ],
      "execution_count": 6,
      "outputs": [
        {
          "output_type": "stream",
          "text": [
            "<class 'pandas.core.frame.DataFrame'>\n",
            "RangeIndex: 150 entries, 0 to 149\n",
            "Data columns (total 6 columns):\n",
            " #   Column         Non-Null Count  Dtype  \n",
            "---  ------         --------------  -----  \n",
            " 0   Id             150 non-null    int64  \n",
            " 1   SepalLengthCm  150 non-null    float64\n",
            " 2   SepalWidthCm   150 non-null    float64\n",
            " 3   PetalLengthCm  150 non-null    float64\n",
            " 4   PetalWidthCm   150 non-null    float64\n",
            " 5   Species        150 non-null    object \n",
            "dtypes: float64(4), int64(1), object(1)\n",
            "memory usage: 7.2+ KB\n"
          ],
          "name": "stdout"
        }
      ]
    },
    {
      "cell_type": "code",
      "metadata": {
        "execution": {
          "iopub.status.busy": "2021-07-04T09:40:19.906566Z",
          "iopub.execute_input": "2021-07-04T09:40:19.906889Z",
          "iopub.status.idle": "2021-07-04T09:40:19.938616Z",
          "shell.execute_reply.started": "2021-07-04T09:40:19.906861Z",
          "shell.execute_reply": "2021-07-04T09:40:19.937511Z"
        },
        "trusted": true,
        "colab": {
          "base_uri": "https://localhost:8080/",
          "height": 295
        },
        "id": "PcXO8nOocXy6",
        "outputId": "0c8a05fd-5cef-40e0-9f1e-21c81b4a5b00"
      },
      "source": [
        "data.describe()"
      ],
      "execution_count": 7,
      "outputs": [
        {
          "output_type": "execute_result",
          "data": {
            "text/html": [
              "<div>\n",
              "<style scoped>\n",
              "    .dataframe tbody tr th:only-of-type {\n",
              "        vertical-align: middle;\n",
              "    }\n",
              "\n",
              "    .dataframe tbody tr th {\n",
              "        vertical-align: top;\n",
              "    }\n",
              "\n",
              "    .dataframe thead th {\n",
              "        text-align: right;\n",
              "    }\n",
              "</style>\n",
              "<table border=\"1\" class=\"dataframe\">\n",
              "  <thead>\n",
              "    <tr style=\"text-align: right;\">\n",
              "      <th></th>\n",
              "      <th>Id</th>\n",
              "      <th>SepalLengthCm</th>\n",
              "      <th>SepalWidthCm</th>\n",
              "      <th>PetalLengthCm</th>\n",
              "      <th>PetalWidthCm</th>\n",
              "    </tr>\n",
              "  </thead>\n",
              "  <tbody>\n",
              "    <tr>\n",
              "      <th>count</th>\n",
              "      <td>150.000000</td>\n",
              "      <td>150.000000</td>\n",
              "      <td>150.000000</td>\n",
              "      <td>150.000000</td>\n",
              "      <td>150.000000</td>\n",
              "    </tr>\n",
              "    <tr>\n",
              "      <th>mean</th>\n",
              "      <td>75.500000</td>\n",
              "      <td>5.843333</td>\n",
              "      <td>3.054000</td>\n",
              "      <td>3.758667</td>\n",
              "      <td>1.198667</td>\n",
              "    </tr>\n",
              "    <tr>\n",
              "      <th>std</th>\n",
              "      <td>43.445368</td>\n",
              "      <td>0.828066</td>\n",
              "      <td>0.433594</td>\n",
              "      <td>1.764420</td>\n",
              "      <td>0.763161</td>\n",
              "    </tr>\n",
              "    <tr>\n",
              "      <th>min</th>\n",
              "      <td>1.000000</td>\n",
              "      <td>4.300000</td>\n",
              "      <td>2.000000</td>\n",
              "      <td>1.000000</td>\n",
              "      <td>0.100000</td>\n",
              "    </tr>\n",
              "    <tr>\n",
              "      <th>25%</th>\n",
              "      <td>38.250000</td>\n",
              "      <td>5.100000</td>\n",
              "      <td>2.800000</td>\n",
              "      <td>1.600000</td>\n",
              "      <td>0.300000</td>\n",
              "    </tr>\n",
              "    <tr>\n",
              "      <th>50%</th>\n",
              "      <td>75.500000</td>\n",
              "      <td>5.800000</td>\n",
              "      <td>3.000000</td>\n",
              "      <td>4.350000</td>\n",
              "      <td>1.300000</td>\n",
              "    </tr>\n",
              "    <tr>\n",
              "      <th>75%</th>\n",
              "      <td>112.750000</td>\n",
              "      <td>6.400000</td>\n",
              "      <td>3.300000</td>\n",
              "      <td>5.100000</td>\n",
              "      <td>1.800000</td>\n",
              "    </tr>\n",
              "    <tr>\n",
              "      <th>max</th>\n",
              "      <td>150.000000</td>\n",
              "      <td>7.900000</td>\n",
              "      <td>4.400000</td>\n",
              "      <td>6.900000</td>\n",
              "      <td>2.500000</td>\n",
              "    </tr>\n",
              "  </tbody>\n",
              "</table>\n",
              "</div>"
            ],
            "text/plain": [
              "               Id  SepalLengthCm  SepalWidthCm  PetalLengthCm  PetalWidthCm\n",
              "count  150.000000     150.000000    150.000000     150.000000    150.000000\n",
              "mean    75.500000       5.843333      3.054000       3.758667      1.198667\n",
              "std     43.445368       0.828066      0.433594       1.764420      0.763161\n",
              "min      1.000000       4.300000      2.000000       1.000000      0.100000\n",
              "25%     38.250000       5.100000      2.800000       1.600000      0.300000\n",
              "50%     75.500000       5.800000      3.000000       4.350000      1.300000\n",
              "75%    112.750000       6.400000      3.300000       5.100000      1.800000\n",
              "max    150.000000       7.900000      4.400000       6.900000      2.500000"
            ]
          },
          "metadata": {
            "tags": []
          },
          "execution_count": 7
        }
      ]
    },
    {
      "cell_type": "code",
      "metadata": {
        "execution": {
          "iopub.status.busy": "2021-07-04T09:40:19.940003Z",
          "iopub.execute_input": "2021-07-04T09:40:19.940616Z",
          "iopub.status.idle": "2021-07-04T09:40:19.947424Z",
          "shell.execute_reply.started": "2021-07-04T09:40:19.940568Z",
          "shell.execute_reply": "2021-07-04T09:40:19.946374Z"
        },
        "trusted": true,
        "colab": {
          "base_uri": "https://localhost:8080/"
        },
        "id": "WKl36vXIcXy7",
        "outputId": "e695a6fe-5cab-4109-9588-e07c6202f1f5"
      },
      "source": [
        "data.Species.unique()"
      ],
      "execution_count": 8,
      "outputs": [
        {
          "output_type": "execute_result",
          "data": {
            "text/plain": [
              "array(['Iris-setosa', 'Iris-versicolor', 'Iris-virginica'], dtype=object)"
            ]
          },
          "metadata": {
            "tags": []
          },
          "execution_count": 8
        }
      ]
    },
    {
      "cell_type": "markdown",
      "metadata": {
        "id": "Ij_wiM8tcXy7"
      },
      "source": [
        "## Step 3 - Find The Number of Clusters"
      ]
    },
    {
      "cell_type": "code",
      "metadata": {
        "execution": {
          "iopub.status.busy": "2021-07-04T09:40:19.948921Z",
          "iopub.execute_input": "2021-07-04T09:40:19.949517Z",
          "iopub.status.idle": "2021-07-04T09:40:20.665982Z",
          "shell.execute_reply.started": "2021-07-04T09:40:19.949469Z",
          "shell.execute_reply": "2021-07-04T09:40:20.664745Z"
        },
        "trusted": true,
        "colab": {
          "base_uri": "https://localhost:8080/",
          "height": 295
        },
        "id": "wZBZdwN9cXy7",
        "outputId": "84e1113c-09f4-41fc-a7e3-60c8b6d6c8e2"
      },
      "source": [
        "x = data.iloc[:, [0,1,2,3]].values\n",
        "wcss = []\n",
        "\n",
        "for i in range(1,11):\n",
        "    kmeans = KMeans(n_clusters = i, init = 'k-means++', max_iter = 300, n_init = 10, random_state = 10)\n",
        "    kmeans.fit(x)\n",
        "    wcss.append(kmeans.inertia_)\n",
        "\n",
        "plt.plot(range(1,11),wcss)\n",
        "plt.title('Elbow Method')\n",
        "plt.xlabel('Number of Clusters')\n",
        "plt.ylabel('WCSS')\n",
        "plt.show()"
      ],
      "execution_count": 9,
      "outputs": [
        {
          "output_type": "display_data",
          "data": {
            "image/png": "[encoded data removed]",
            "text/plain": [
              "<Figure size 432x288 with 1 Axes>"
            ]
          },
          "metadata": {
            "tags": [],
            "needs_background": "light"
          }
        }
      ]
    },
    {
      "cell_type": "markdown",
      "metadata": {
        "id": "CRFPnH-ycXy8"
      },
      "source": [
        "From the above plot, A clear elbow is seen to be formed at 3.\n",
        "Thus, the optimum number of clusters is 3. "
      ]
    },
    {
      "cell_type": "markdown",
      "metadata": {
        "id": "-enHzyVWcXy8"
      },
      "source": [
        "## Step 4 - Train The Model"
      ]
    },
    {
      "cell_type": "code",
      "metadata": {
        "execution": {
          "iopub.status.busy": "2021-07-04T09:40:20.667528Z",
          "iopub.execute_input": "2021-07-04T09:40:20.667960Z",
          "iopub.status.idle": "2021-07-04T09:40:20.704648Z",
          "shell.execute_reply.started": "2021-07-04T09:40:20.667916Z",
          "shell.execute_reply": "2021-07-04T09:40:20.703797Z"
        },
        "trusted": true,
        "id": "agfv8f0fcXy8"
      },
      "source": [
        "#Assigning the 'kmeans' classifier\n",
        "kmeans = KMeans(n_clusters= 3,init = 'k-means++',max_iter = 300,n_init = 10,random_state= 10)\n",
        "y_kmeans = kmeans.fit_predict(x)"
      ],
      "execution_count": 10,
      "outputs": []
    },
    {
      "cell_type": "markdown",
      "metadata": {
        "id": "HiTKSz9jcXy8"
      },
      "source": [
        "## Step 5 - Cluster Visualization"
      ]
    },
    {
      "cell_type": "code",
      "metadata": {
        "execution": {
          "iopub.status.busy": "2021-07-04T09:40:20.705685Z",
          "iopub.execute_input": "2021-07-04T09:40:20.706110Z",
          "iopub.status.idle": "2021-07-04T09:40:20.988874Z",
          "shell.execute_reply.started": "2021-07-04T09:40:20.706079Z",
          "shell.execute_reply": "2021-07-04T09:40:20.987716Z"
        },
        "trusted": true,
        "colab": {
          "base_uri": "https://localhost:8080/",
          "height": 320
        },
        "id": "VfmTozz_cXy8",
        "outputId": "a293e8cc-f918-48ef-d460-d74061441a08"
      },
      "source": [
        "plt.figure(figsize = (6,5))\n",
        "\n",
        "\n",
        "plt.scatter(x[y_kmeans == 0,0], x[y_kmeans == 0,1] , s = 100,c = 'blue',label = 'Iris-setosa')\n",
        "plt.scatter(x[y_kmeans == 1,0], x[y_kmeans == 1,1] , s = 100,c = 'green',label = 'Iris-versicolor')\n",
        "plt.scatter(x[y_kmeans == 2,0], x[y_kmeans == 2,1] , s = 100,c = 'yellow',label = 'Iris-verginica')\n",
        "\n",
        "#Centroid Plotting of the clusters\n",
        "plt.scatter(kmeans.cluster_centers_[:,0],kmeans.cluster_centers_[:,1],s = 100,c = 'red',label = 'Centroids')\n",
        "plt.legend()\n",
        "plt.show()"
      ],
      "execution_count": 11,
      "outputs": [
        {
          "output_type": "display_data",
          "data": {
            "image/png": "[encoded data removed]",
            "text/plain": [
              "<Figure size 432x360 with 1 Axes>"
            ]
          },
          "metadata": {
            "tags": [],
            "needs_background": "light"
          }
        }
      ]
    }
  ]
}